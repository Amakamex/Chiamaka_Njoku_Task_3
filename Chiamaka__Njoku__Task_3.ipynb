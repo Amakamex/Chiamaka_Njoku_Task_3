{
  "cells": [
    {
      "cell_type": "markdown",
      "source": [
        "# Analyzing Pizza Sales Data\n",
        "\n",
        "This notebook analyzes a dataset containing pizza sales information.\n",
        "\n",
        "## 1. Importing Libraries and Loading Data\n",
        "\n",
        "We begin by importing necessary libraries, including `pandas` for data manipulation and `matplotlib.pyplot` for plotting. We then load the four CSV files (`orders.csv`, `order_details.csv`, `pizzas.csv`, and `pizza_types.csv`) into pandas DataFrames."
      ],
      "metadata": {
        "id": "3_uLcsbDThvl"
      },
      "id": "3_uLcsbDThvl"
    },
    {
      "cell_type": "code",
      "execution_count": null,
      "id": "51a391a7-5551-491a-8c8c-e56384e9a3dc",
      "metadata": {
        "id": "51a391a7-5551-491a-8c8c-e56384e9a3dc"
      },
      "outputs": [],
      "source": [
        "import pandas as pd"
      ]
    },
    {
      "cell_type": "code",
      "execution_count": null,
      "id": "f219d974-dc10-48d5-b265-4b28b0e7ff59",
      "metadata": {
        "id": "f219d974-dc10-48d5-b265-4b28b0e7ff59"
      },
      "outputs": [],
      "source": [
        "import matplotlib.pyplot as plt"
      ]
    },
    {
      "cell_type": "code",
      "execution_count": null,
      "id": "224157e7-3ff3-453f-a550-7f918d55bef0",
      "metadata": {
        "id": "224157e7-3ff3-453f-a550-7f918d55bef0"
      },
      "outputs": [],
      "source": [
        "orders = pd.read_csv(\"C:/Users/Hp/Downloads/orders.csv\")"
      ]
    },
    {
      "cell_type": "code",
      "execution_count": null,
      "id": "c98d6a86-1fb1-4bf0-b404-d4ccb668ca9e",
      "metadata": {
        "id": "c98d6a86-1fb1-4bf0-b404-d4ccb668ca9e"
      },
      "outputs": [],
      "source": [
        "order_detail = pd.read_csv(\"C:/Users/Hp/Desktop/My Datasets/Copy of Pizza+Place+Sales/pizza_sales/order_details.csv\")"
      ]
    },
    {
      "cell_type": "code",
      "execution_count": null,
      "id": "5bf16ebc-8cff-4b85-8222-83138eef6c73",
      "metadata": {
        "id": "5bf16ebc-8cff-4b85-8222-83138eef6c73"
      },
      "outputs": [],
      "source": [
        "pizza = pd.read_csv(\"C:/Users/Hp/Desktop/My Datasets/Copy of Pizza+Place+Sales/pizza_sales/pizzas.csv\")"
      ]
    },
    {
      "cell_type": "code",
      "execution_count": null,
      "id": "86a45780-3e9c-4d05-acf4-4a812f47fbe8",
      "metadata": {
        "id": "86a45780-3e9c-4d05-acf4-4a812f47fbe8"
      },
      "outputs": [],
      "source": [
        "pizza_types = pd.read_csv(\"C:/Users/Hp/Desktop/My Datasets/Copy of Pizza+Place+Sales/pizza_sales/pizza_types.csv\", encoding= \"latin1\")"
      ]
    },
    {
      "cell_type": "markdown",
      "source": [
        "## 2. Data Inspection\n",
        "\n",
        "I displayed the first few rows of each DataFrame to get a glimpse of the data structure and content."
      ],
      "metadata": {
        "id": "mLEcm6eOUeh9"
      },
      "id": "mLEcm6eOUeh9"
    },
    {
      "cell_type": "code",
      "execution_count": null,
      "id": "b154fd7f-7e4b-454d-891e-2468c5f6e660",
      "metadata": {
        "id": "b154fd7f-7e4b-454d-891e-2468c5f6e660",
        "outputId": "ed43d59f-5114-4c46-cb62-5bf8bff870d7"
      },
      "outputs": [
        {
          "data": {
            "text/html": [
              "<div>\n",
              "<style scoped>\n",
              "    .dataframe tbody tr th:only-of-type {\n",
              "        vertical-align: middle;\n",
              "    }\n",
              "\n",
              "    .dataframe tbody tr th {\n",
              "        vertical-align: top;\n",
              "    }\n",
              "\n",
              "    .dataframe thead th {\n",
              "        text-align: right;\n",
              "    }\n",
              "</style>\n",
              "<table border=\"1\" class=\"dataframe\">\n",
              "  <thead>\n",
              "    <tr style=\"text-align: right;\">\n",
              "      <th></th>\n",
              "      <th>order_details_id</th>\n",
              "      <th>order_id</th>\n",
              "      <th>pizza_id</th>\n",
              "      <th>quantity</th>\n",
              "    </tr>\n",
              "  </thead>\n",
              "  <tbody>\n",
              "    <tr>\n",
              "      <th>0</th>\n",
              "      <td>1</td>\n",
              "      <td>1</td>\n",
              "      <td>hawaiian_m</td>\n",
              "      <td>1</td>\n",
              "    </tr>\n",
              "    <tr>\n",
              "      <th>1</th>\n",
              "      <td>2</td>\n",
              "      <td>2</td>\n",
              "      <td>classic_dlx_m</td>\n",
              "      <td>1</td>\n",
              "    </tr>\n",
              "    <tr>\n",
              "      <th>2</th>\n",
              "      <td>3</td>\n",
              "      <td>2</td>\n",
              "      <td>five_cheese_l</td>\n",
              "      <td>1</td>\n",
              "    </tr>\n",
              "    <tr>\n",
              "      <th>3</th>\n",
              "      <td>4</td>\n",
              "      <td>2</td>\n",
              "      <td>ital_supr_l</td>\n",
              "      <td>1</td>\n",
              "    </tr>\n",
              "    <tr>\n",
              "      <th>4</th>\n",
              "      <td>5</td>\n",
              "      <td>2</td>\n",
              "      <td>mexicana_m</td>\n",
              "      <td>1</td>\n",
              "    </tr>\n",
              "  </tbody>\n",
              "</table>\n",
              "</div>"
            ],
            "text/plain": [
              "   order_details_id  order_id       pizza_id  quantity\n",
              "0                 1         1     hawaiian_m         1\n",
              "1                 2         2  classic_dlx_m         1\n",
              "2                 3         2  five_cheese_l         1\n",
              "3                 4         2    ital_supr_l         1\n",
              "4                 5         2     mexicana_m         1"
            ]
          },
          "execution_count": 8,
          "metadata": {},
          "output_type": "execute_result"
        }
      ],
      "source": [
        "order_detail.head()"
      ]
    },
    {
      "cell_type": "code",
      "execution_count": null,
      "id": "dde78dcc-4c9e-40b2-82dc-8cbbea2889cb",
      "metadata": {
        "id": "dde78dcc-4c9e-40b2-82dc-8cbbea2889cb",
        "outputId": "493b3b64-4888-45b9-cb9c-45e0350dd173"
      },
      "outputs": [
        {
          "data": {
            "text/html": [
              "<div>\n",
              "<style scoped>\n",
              "    .dataframe tbody tr th:only-of-type {\n",
              "        vertical-align: middle;\n",
              "    }\n",
              "\n",
              "    .dataframe tbody tr th {\n",
              "        vertical-align: top;\n",
              "    }\n",
              "\n",
              "    .dataframe thead th {\n",
              "        text-align: right;\n",
              "    }\n",
              "</style>\n",
              "<table border=\"1\" class=\"dataframe\">\n",
              "  <thead>\n",
              "    <tr style=\"text-align: right;\">\n",
              "      <th></th>\n",
              "      <th>pizza_id</th>\n",
              "      <th>pizza_type_id</th>\n",
              "      <th>size</th>\n",
              "      <th>price</th>\n",
              "    </tr>\n",
              "  </thead>\n",
              "  <tbody>\n",
              "    <tr>\n",
              "      <th>0</th>\n",
              "      <td>bbq_ckn_s</td>\n",
              "      <td>bbq_ckn</td>\n",
              "      <td>S</td>\n",
              "      <td>12.75</td>\n",
              "    </tr>\n",
              "    <tr>\n",
              "      <th>1</th>\n",
              "      <td>bbq_ckn_m</td>\n",
              "      <td>bbq_ckn</td>\n",
              "      <td>M</td>\n",
              "      <td>16.75</td>\n",
              "    </tr>\n",
              "    <tr>\n",
              "      <th>2</th>\n",
              "      <td>bbq_ckn_l</td>\n",
              "      <td>bbq_ckn</td>\n",
              "      <td>L</td>\n",
              "      <td>20.75</td>\n",
              "    </tr>\n",
              "    <tr>\n",
              "      <th>3</th>\n",
              "      <td>cali_ckn_s</td>\n",
              "      <td>cali_ckn</td>\n",
              "      <td>S</td>\n",
              "      <td>12.75</td>\n",
              "    </tr>\n",
              "    <tr>\n",
              "      <th>4</th>\n",
              "      <td>cali_ckn_m</td>\n",
              "      <td>cali_ckn</td>\n",
              "      <td>M</td>\n",
              "      <td>16.75</td>\n",
              "    </tr>\n",
              "  </tbody>\n",
              "</table>\n",
              "</div>"
            ],
            "text/plain": [
              "     pizza_id pizza_type_id size  price\n",
              "0   bbq_ckn_s       bbq_ckn    S  12.75\n",
              "1   bbq_ckn_m       bbq_ckn    M  16.75\n",
              "2   bbq_ckn_l       bbq_ckn    L  20.75\n",
              "3  cali_ckn_s      cali_ckn    S  12.75\n",
              "4  cali_ckn_m      cali_ckn    M  16.75"
            ]
          },
          "execution_count": 9,
          "metadata": {},
          "output_type": "execute_result"
        }
      ],
      "source": [
        "pizza.head()"
      ]
    },
    {
      "cell_type": "code",
      "execution_count": null,
      "id": "2b8b6b93-d4e8-47b5-9f3b-d82b8ce0cf54",
      "metadata": {
        "id": "2b8b6b93-d4e8-47b5-9f3b-d82b8ce0cf54",
        "outputId": "908972f8-f60e-43da-e000-9035fca4256a"
      },
      "outputs": [
        {
          "data": {
            "text/html": [
              "<div>\n",
              "<style scoped>\n",
              "    .dataframe tbody tr th:only-of-type {\n",
              "        vertical-align: middle;\n",
              "    }\n",
              "\n",
              "    .dataframe tbody tr th {\n",
              "        vertical-align: top;\n",
              "    }\n",
              "\n",
              "    .dataframe thead th {\n",
              "        text-align: right;\n",
              "    }\n",
              "</style>\n",
              "<table border=\"1\" class=\"dataframe\">\n",
              "  <thead>\n",
              "    <tr style=\"text-align: right;\">\n",
              "      <th></th>\n",
              "      <th>pizza_type_id</th>\n",
              "      <th>name</th>\n",
              "      <th>category</th>\n",
              "      <th>ingredients</th>\n",
              "    </tr>\n",
              "  </thead>\n",
              "  <tbody>\n",
              "    <tr>\n",
              "      <th>0</th>\n",
              "      <td>bbq_ckn</td>\n",
              "      <td>The Barbecue Chicken Pizza</td>\n",
              "      <td>Chicken</td>\n",
              "      <td>Barbecued Chicken, Red Peppers, Green Peppers,...</td>\n",
              "    </tr>\n",
              "    <tr>\n",
              "      <th>1</th>\n",
              "      <td>cali_ckn</td>\n",
              "      <td>The California Chicken Pizza</td>\n",
              "      <td>Chicken</td>\n",
              "      <td>Chicken, Artichoke, Spinach, Garlic, Jalapeno ...</td>\n",
              "    </tr>\n",
              "    <tr>\n",
              "      <th>2</th>\n",
              "      <td>ckn_alfredo</td>\n",
              "      <td>The Chicken Alfredo Pizza</td>\n",
              "      <td>Chicken</td>\n",
              "      <td>Chicken, Red Onions, Red Peppers, Mushrooms, A...</td>\n",
              "    </tr>\n",
              "    <tr>\n",
              "      <th>3</th>\n",
              "      <td>ckn_pesto</td>\n",
              "      <td>The Chicken Pesto Pizza</td>\n",
              "      <td>Chicken</td>\n",
              "      <td>Chicken, Tomatoes, Red Peppers, Spinach, Garli...</td>\n",
              "    </tr>\n",
              "    <tr>\n",
              "      <th>4</th>\n",
              "      <td>southw_ckn</td>\n",
              "      <td>The Southwest Chicken Pizza</td>\n",
              "      <td>Chicken</td>\n",
              "      <td>Chicken, Tomatoes, Red Peppers, Red Onions, Ja...</td>\n",
              "    </tr>\n",
              "  </tbody>\n",
              "</table>\n",
              "</div>"
            ],
            "text/plain": [
              "  pizza_type_id                          name category  \\\n",
              "0       bbq_ckn    The Barbecue Chicken Pizza  Chicken   \n",
              "1      cali_ckn  The California Chicken Pizza  Chicken   \n",
              "2   ckn_alfredo     The Chicken Alfredo Pizza  Chicken   \n",
              "3     ckn_pesto       The Chicken Pesto Pizza  Chicken   \n",
              "4    southw_ckn   The Southwest Chicken Pizza  Chicken   \n",
              "\n",
              "                                         ingredients  \n",
              "0  Barbecued Chicken, Red Peppers, Green Peppers,...  \n",
              "1  Chicken, Artichoke, Spinach, Garlic, Jalapeno ...  \n",
              "2  Chicken, Red Onions, Red Peppers, Mushrooms, A...  \n",
              "3  Chicken, Tomatoes, Red Peppers, Spinach, Garli...  \n",
              "4  Chicken, Tomatoes, Red Peppers, Red Onions, Ja...  "
            ]
          },
          "execution_count": 10,
          "metadata": {},
          "output_type": "execute_result"
        }
      ],
      "source": [
        "pizza_types.head()"
      ]
    },
    {
      "cell_type": "markdown",
      "source": [
        "## 3. Merging DataFrames\n",
        "\n",
        "To perform comprehensive analysis, I merged the DataFrames based on common columns. This process combines the information from different files into a single DataFrame called `full_data`."
      ],
      "metadata": {
        "id": "ftzvI8dNVg_3"
      },
      "id": "ftzvI8dNVg_3"
    },
    {
      "cell_type": "code",
      "execution_count": null,
      "id": "f5ce5428-37d3-459b-81a0-9de53386e3cb",
      "metadata": {
        "id": "f5ce5428-37d3-459b-81a0-9de53386e3cb"
      },
      "outputs": [],
      "source": [
        "price= pd.merge(order_detail, pizza, on= \"pizza_id\")"
      ]
    },
    {
      "cell_type": "code",
      "execution_count": null,
      "id": "35ea634f-1219-44e3-bcbe-f3fe48ded003",
      "metadata": {
        "id": "35ea634f-1219-44e3-bcbe-f3fe48ded003"
      },
      "outputs": [],
      "source": [
        "full_data= pd.merge(price, orders, on= \"order_id\")"
      ]
    },
    {
      "cell_type": "code",
      "execution_count": null,
      "id": "a47473dc-9cd1-4206-9507-c59b3296b2b9",
      "metadata": {
        "id": "a47473dc-9cd1-4206-9507-c59b3296b2b9"
      },
      "outputs": [],
      "source": [
        "full_data= pd.merge(full_data, pizza_types, on= \"pizza_type_id\")"
      ]
    },
    {
      "cell_type": "code",
      "execution_count": null,
      "id": "fd24d70e-efe6-468f-b4dc-07f86fe119b7",
      "metadata": {
        "id": "fd24d70e-efe6-468f-b4dc-07f86fe119b7"
      },
      "outputs": [],
      "source": [
        "full_data[\"data\"] = pd.to_datetime(full_data[\"date\"])"
      ]
    },
    {
      "cell_type": "code",
      "execution_count": null,
      "id": "4cf27ff6-b1a8-4a5a-93ef-ab8b13e092e1",
      "metadata": {
        "id": "4cf27ff6-b1a8-4a5a-93ef-ab8b13e092e1"
      },
      "outputs": [],
      "source": [
        "full_data[\"time\"] = pd.to_datetime(full_data[\"time\"], format = \"%H:%M:%S\").dt.time"
      ]
    },
    {
      "cell_type": "markdown",
      "source": [
        "## 4. Data Cleaning and Transformation\n",
        "\n",
        "I converted the 'date' column to datetime objects and extract the time from the 'time' column. I then displayed the first few rows of the merged and transformed DataFrame."
      ],
      "metadata": {
        "id": "cuDMzDZOWJNz"
      },
      "id": "cuDMzDZOWJNz"
    },
    {
      "cell_type": "code",
      "execution_count": null,
      "id": "261799d0-ede1-4c89-bf97-3e090e44d60f",
      "metadata": {
        "id": "261799d0-ede1-4c89-bf97-3e090e44d60f",
        "outputId": "e0d3b046-7b02-4d7e-f6b8-58bb71463848"
      },
      "outputs": [
        {
          "data": {
            "text/html": [
              "<div>\n",
              "<style scoped>\n",
              "    .dataframe tbody tr th:only-of-type {\n",
              "        vertical-align: middle;\n",
              "    }\n",
              "\n",
              "    .dataframe tbody tr th {\n",
              "        vertical-align: top;\n",
              "    }\n",
              "\n",
              "    .dataframe thead th {\n",
              "        text-align: right;\n",
              "    }\n",
              "</style>\n",
              "<table border=\"1\" class=\"dataframe\">\n",
              "  <thead>\n",
              "    <tr style=\"text-align: right;\">\n",
              "      <th></th>\n",
              "      <th>order_details_id</th>\n",
              "      <th>order_id</th>\n",
              "      <th>pizza_id</th>\n",
              "      <th>quantity</th>\n",
              "      <th>pizza_type_id</th>\n",
              "      <th>size</th>\n",
              "      <th>price</th>\n",
              "      <th>date</th>\n",
              "      <th>time</th>\n",
              "      <th>name</th>\n",
              "      <th>category</th>\n",
              "      <th>ingredients</th>\n",
              "      <th>data</th>\n",
              "    </tr>\n",
              "  </thead>\n",
              "  <tbody>\n",
              "    <tr>\n",
              "      <th>0</th>\n",
              "      <td>1</td>\n",
              "      <td>1</td>\n",
              "      <td>hawaiian_m</td>\n",
              "      <td>1</td>\n",
              "      <td>hawaiian</td>\n",
              "      <td>M</td>\n",
              "      <td>13.25</td>\n",
              "      <td>2015-01-01</td>\n",
              "      <td>11:38:36</td>\n",
              "      <td>The Hawaiian Pizza</td>\n",
              "      <td>Classic</td>\n",
              "      <td>Sliced Ham, Pineapple, Mozzarella Cheese</td>\n",
              "      <td>2015-01-01</td>\n",
              "    </tr>\n",
              "    <tr>\n",
              "      <th>1</th>\n",
              "      <td>2</td>\n",
              "      <td>2</td>\n",
              "      <td>classic_dlx_m</td>\n",
              "      <td>1</td>\n",
              "      <td>classic_dlx</td>\n",
              "      <td>M</td>\n",
              "      <td>16.00</td>\n",
              "      <td>2015-01-01</td>\n",
              "      <td>11:57:40</td>\n",
              "      <td>The Classic Deluxe Pizza</td>\n",
              "      <td>Classic</td>\n",
              "      <td>Pepperoni, Mushrooms, Red Onions, Red Peppers,...</td>\n",
              "      <td>2015-01-01</td>\n",
              "    </tr>\n",
              "    <tr>\n",
              "      <th>2</th>\n",
              "      <td>3</td>\n",
              "      <td>2</td>\n",
              "      <td>five_cheese_l</td>\n",
              "      <td>1</td>\n",
              "      <td>five_cheese</td>\n",
              "      <td>L</td>\n",
              "      <td>18.50</td>\n",
              "      <td>2015-01-01</td>\n",
              "      <td>11:57:40</td>\n",
              "      <td>The Five Cheese Pizza</td>\n",
              "      <td>Veggie</td>\n",
              "      <td>Mozzarella Cheese, Provolone Cheese, Smoked Go...</td>\n",
              "      <td>2015-01-01</td>\n",
              "    </tr>\n",
              "    <tr>\n",
              "      <th>3</th>\n",
              "      <td>4</td>\n",
              "      <td>2</td>\n",
              "      <td>ital_supr_l</td>\n",
              "      <td>1</td>\n",
              "      <td>ital_supr</td>\n",
              "      <td>L</td>\n",
              "      <td>20.75</td>\n",
              "      <td>2015-01-01</td>\n",
              "      <td>11:57:40</td>\n",
              "      <td>The Italian Supreme Pizza</td>\n",
              "      <td>Supreme</td>\n",
              "      <td>Calabrese Salami, Capocollo, Tomatoes, Red Oni...</td>\n",
              "      <td>2015-01-01</td>\n",
              "    </tr>\n",
              "    <tr>\n",
              "      <th>4</th>\n",
              "      <td>5</td>\n",
              "      <td>2</td>\n",
              "      <td>mexicana_m</td>\n",
              "      <td>1</td>\n",
              "      <td>mexicana</td>\n",
              "      <td>M</td>\n",
              "      <td>16.00</td>\n",
              "      <td>2015-01-01</td>\n",
              "      <td>11:57:40</td>\n",
              "      <td>The Mexicana Pizza</td>\n",
              "      <td>Veggie</td>\n",
              "      <td>Tomatoes, Red Peppers, Jalapeno Peppers, Red O...</td>\n",
              "      <td>2015-01-01</td>\n",
              "    </tr>\n",
              "  </tbody>\n",
              "</table>\n",
              "</div>"
            ],
            "text/plain": [
              "   order_details_id  order_id       pizza_id  quantity pizza_type_id size  \\\n",
              "0                 1         1     hawaiian_m         1      hawaiian    M   \n",
              "1                 2         2  classic_dlx_m         1   classic_dlx    M   \n",
              "2                 3         2  five_cheese_l         1   five_cheese    L   \n",
              "3                 4         2    ital_supr_l         1     ital_supr    L   \n",
              "4                 5         2     mexicana_m         1      mexicana    M   \n",
              "\n",
              "   price        date      time                       name category  \\\n",
              "0  13.25  2015-01-01  11:38:36         The Hawaiian Pizza  Classic   \n",
              "1  16.00  2015-01-01  11:57:40   The Classic Deluxe Pizza  Classic   \n",
              "2  18.50  2015-01-01  11:57:40      The Five Cheese Pizza   Veggie   \n",
              "3  20.75  2015-01-01  11:57:40  The Italian Supreme Pizza  Supreme   \n",
              "4  16.00  2015-01-01  11:57:40         The Mexicana Pizza   Veggie   \n",
              "\n",
              "                                         ingredients       data  \n",
              "0           Sliced Ham, Pineapple, Mozzarella Cheese 2015-01-01  \n",
              "1  Pepperoni, Mushrooms, Red Onions, Red Peppers,... 2015-01-01  \n",
              "2  Mozzarella Cheese, Provolone Cheese, Smoked Go... 2015-01-01  \n",
              "3  Calabrese Salami, Capocollo, Tomatoes, Red Oni... 2015-01-01  \n",
              "4  Tomatoes, Red Peppers, Jalapeno Peppers, Red O... 2015-01-01  "
            ]
          },
          "execution_count": 16,
          "metadata": {},
          "output_type": "execute_result"
        }
      ],
      "source": [
        "full_data.head()"
      ]
    },
    {
      "cell_type": "markdown",
      "source": [
        "## 5. Key Performance Indicators (KPIs) Calculation\n",
        "\n",
        " Calculate several key metrics to understand the overall sales performance."
      ],
      "metadata": {
        "id": "sbj7_m4NjdOd"
      },
      "id": "sbj7_m4NjdOd"
    },
    {
      "cell_type": "code",
      "execution_count": null,
      "id": "12e8bd30-3692-49ff-8dbc-178de3fcdfc1",
      "metadata": {
        "id": "12e8bd30-3692-49ff-8dbc-178de3fcdfc1"
      },
      "outputs": [],
      "source": [
        "total_revenue = full_data[\"price\"].sum()"
      ]
    },
    {
      "cell_type": "code",
      "execution_count": null,
      "id": "0f8f0468-424d-487e-a2af-d9bacf17a946",
      "metadata": {
        "id": "0f8f0468-424d-487e-a2af-d9bacf17a946",
        "outputId": "79149d51-80b7-4396-99d3-bb9440a1d2f4"
      },
      "outputs": [
        {
          "data": {
            "text/plain": [
              "801944.7000000001"
            ]
          },
          "execution_count": 18,
          "metadata": {},
          "output_type": "execute_result"
        }
      ],
      "source": [
        "total_revenue"
      ]
    },
    {
      "cell_type": "code",
      "execution_count": null,
      "id": "af8cc8af-6898-496a-be92-99b51d4ac586",
      "metadata": {
        "id": "af8cc8af-6898-496a-be92-99b51d4ac586"
      },
      "outputs": [],
      "source": [
        "total_quantity_sold = full_data[\"quantity\"].sum()"
      ]
    },
    {
      "cell_type": "code",
      "execution_count": null,
      "id": "33f9d01d-fba8-43a5-974e-5220d5666a12",
      "metadata": {
        "id": "33f9d01d-fba8-43a5-974e-5220d5666a12",
        "outputId": "a0387f68-5188-4016-d7f2-5ea9eee0270f"
      },
      "outputs": [
        {
          "data": {
            "text/plain": [
              "49574"
            ]
          },
          "execution_count": 20,
          "metadata": {},
          "output_type": "execute_result"
        }
      ],
      "source": [
        "total_quantity_sold"
      ]
    },
    {
      "cell_type": "code",
      "execution_count": null,
      "id": "8de4e843-a9e1-45aa-8f2a-2ffb42e6dfac",
      "metadata": {
        "id": "8de4e843-a9e1-45aa-8f2a-2ffb42e6dfac"
      },
      "outputs": [],
      "source": [
        "total_orders = full_data.shape[0]"
      ]
    },
    {
      "cell_type": "code",
      "execution_count": null,
      "id": "2940b52c-6372-4a0b-8fc3-5cbc51deab36",
      "metadata": {
        "id": "2940b52c-6372-4a0b-8fc3-5cbc51deab36",
        "outputId": "4f53426e-3780-44a5-dbe4-3b6123f2daad"
      },
      "outputs": [
        {
          "data": {
            "text/plain": [
              "48620"
            ]
          },
          "execution_count": 22,
          "metadata": {},
          "output_type": "execute_result"
        }
      ],
      "source": [
        "total_orders"
      ]
    },
    {
      "cell_type": "code",
      "execution_count": null,
      "id": "617c54a2-3399-49f2-ba10-32a5c21e0d6a",
      "metadata": {
        "id": "617c54a2-3399-49f2-ba10-32a5c21e0d6a"
      },
      "outputs": [],
      "source": [
        "pizza_types = full_data[\"pizza_type_id\"].nunique()"
      ]
    },
    {
      "cell_type": "code",
      "execution_count": null,
      "id": "0eb07dfc-3409-48dc-a117-fb7d79f4c6d2",
      "metadata": {
        "id": "0eb07dfc-3409-48dc-a117-fb7d79f4c6d2",
        "outputId": "e0ebe07a-bea5-41d7-d324-d1a55a3f5f3a"
      },
      "outputs": [
        {
          "data": {
            "text/plain": [
              "32"
            ]
          },
          "execution_count": 24,
          "metadata": {},
          "output_type": "execute_result"
        }
      ],
      "source": [
        "pizza_types"
      ]
    },
    {
      "cell_type": "code",
      "execution_count": null,
      "id": "6966f9d9-324f-4d1c-8c4a-130aaf5fd675",
      "metadata": {
        "id": "6966f9d9-324f-4d1c-8c4a-130aaf5fd675"
      },
      "outputs": [],
      "source": [
        "pizza_average_price = full_data[\"price\"].mean()"
      ]
    },
    {
      "cell_type": "code",
      "execution_count": null,
      "id": "330f2572-f4ee-434b-81b6-c97d9817d332",
      "metadata": {
        "id": "330f2572-f4ee-434b-81b6-c97d9817d332",
        "outputId": "668ac654-2716-459f-cd29-a5915f0ddd6d"
      },
      "outputs": [
        {
          "data": {
            "text/plain": [
              "16.494132044426163"
            ]
          },
          "execution_count": 26,
          "metadata": {},
          "output_type": "execute_result"
        }
      ],
      "source": [
        "pizza_average_price"
      ]
    },
    {
      "cell_type": "code",
      "execution_count": null,
      "id": "bc418822-18f8-46b1-9cf6-34b8389000a1",
      "metadata": {
        "id": "bc418822-18f8-46b1-9cf6-34b8389000a1"
      },
      "outputs": [],
      "source": [
        "peak_hours_of_sales = full_data[\"time\"].value_counts().idxmax()"
      ]
    },
    {
      "cell_type": "code",
      "execution_count": null,
      "id": "b14f0eb9-321d-40d0-955c-f3b8d53260bb",
      "metadata": {
        "id": "b14f0eb9-321d-40d0-955c-f3b8d53260bb",
        "outputId": "fc90a5fa-f0ef-4f12-a511-8baf8e9d83bd"
      },
      "outputs": [
        {
          "data": {
            "text/plain": [
              "datetime.time(12, 32)"
            ]
          },
          "execution_count": 28,
          "metadata": {},
          "output_type": "execute_result"
        }
      ],
      "source": [
        "peak_hours_of_sales"
      ]
    },
    {
      "cell_type": "markdown",
      "source": [
        "## 6. Daily Sales Analysis\n",
        "\n",
        "Group the data by date and calculate the total sales for each day, then sort in descending order."
      ],
      "metadata": {
        "id": "esHwJqw5j5_d"
      },
      "id": "esHwJqw5j5_d"
    },
    {
      "cell_type": "code",
      "execution_count": null,
      "id": "2ea4bad8-1e56-43ee-a20d-fbbf047c6592",
      "metadata": {
        "id": "2ea4bad8-1e56-43ee-a20d-fbbf047c6592"
      },
      "outputs": [],
      "source": [
        "daily_total_sales = full_data.groupby(\"date\")[\"price\"].sum().sort_values(ascending = False)"
      ]
    },
    {
      "cell_type": "code",
      "execution_count": null,
      "id": "6cf088c6-7a0c-4a88-b14c-723c3ec5bed1",
      "metadata": {
        "id": "6cf088c6-7a0c-4a88-b14c-723c3ec5bed1",
        "outputId": "204d0dad-63ac-42dc-c574-486a41d9ee88"
      },
      "outputs": [
        {
          "data": {
            "text/plain": [
              "date\n",
              "2015-11-27    4342.70\n",
              "2015-11-26    4315.95\n",
              "2015-10-15    4257.45\n",
              "2015-07-04    3852.20\n",
              "2015-07-03    3340.50\n",
              "               ...   \n",
              "2015-12-27    1389.05\n",
              "2015-11-22    1336.45\n",
              "2015-12-29    1312.50\n",
              "2015-03-22    1244.00\n",
              "2015-12-30    1201.65\n",
              "Name: price, Length: 358, dtype: float64"
            ]
          },
          "execution_count": 30,
          "metadata": {},
          "output_type": "execute_result"
        }
      ],
      "source": [
        "daily_total_sales"
      ]
    },
    {
      "cell_type": "markdown",
      "source": [
        "## 7. Best and Worst Performing Pizzas\n",
        "\n",
        "Identify the top 5 best-selling pizza types based on the count of orders. I also identified the bottom 5 worst-selling pizza types based on total revenue."
      ],
      "metadata": {
        "id": "sCpZKS5WkF2h"
      },
      "id": "sCpZKS5WkF2h"
    },
    {
      "cell_type": "code",
      "execution_count": null,
      "id": "77f999ff-92ba-441f-9ea1-b8b799f50fbf",
      "metadata": {
        "id": "77f999ff-92ba-441f-9ea1-b8b799f50fbf"
      },
      "outputs": [],
      "source": [
        "best_5_pizzas = full_data[\"pizza_type_id\"].value_counts().head(5)"
      ]
    },
    {
      "cell_type": "code",
      "execution_count": null,
      "id": "c40917a8-dfed-4486-b3a2-c7522feb70f7",
      "metadata": {
        "id": "c40917a8-dfed-4486-b3a2-c7522feb70f7",
        "outputId": "f8f33413-3bbe-466d-907f-2c75940eb09d"
      },
      "outputs": [
        {
          "data": {
            "text/plain": [
              "pizza_type_id\n",
              "classic_dlx    2416\n",
              "bbq_ckn        2372\n",
              "hawaiian       2370\n",
              "pepperoni      2369\n",
              "thai_ckn       2315\n",
              "Name: count, dtype: int64"
            ]
          },
          "execution_count": 32,
          "metadata": {},
          "output_type": "execute_result"
        }
      ],
      "source": [
        "best_5_pizzas"
      ]
    },
    {
      "cell_type": "markdown",
      "source": [
        "## 8. Monthly Sales Analysis\n",
        "\n",
        "Extract the month from the date and calculate the total sales for each month. Finally,visualize the monthly sales using a bar plot."
      ],
      "metadata": {
        "id": "Jgbcxw_qkisr"
      },
      "id": "Jgbcxw_qkisr"
    },
    {
      "cell_type": "code",
      "execution_count": null,
      "id": "7e807172-b613-4879-aa22-2cf3200fbded",
      "metadata": {
        "id": "7e807172-b613-4879-aa22-2cf3200fbded"
      },
      "outputs": [],
      "source": [
        "full_data[\"date\"] = pd.to_datetime(full_data[\"date\"])"
      ]
    },
    {
      "cell_type": "code",
      "execution_count": null,
      "id": "5488cdad-eab2-4b9b-b817-8c5bf6b5b8a2",
      "metadata": {
        "id": "5488cdad-eab2-4b9b-b817-8c5bf6b5b8a2"
      },
      "outputs": [],
      "source": [
        "full_data[\"month\"] = full_data[\"date\"].dt.month"
      ]
    },
    {
      "cell_type": "code",
      "execution_count": null,
      "id": "4fa4063d-d706-40b1-97f8-4084cc83b1eb",
      "metadata": {
        "id": "4fa4063d-d706-40b1-97f8-4084cc83b1eb"
      },
      "outputs": [],
      "source": [
        "sales_in_each_month = full_data.groupby(\"month\")[\"price\"].sum()"
      ]
    },
    {
      "cell_type": "code",
      "execution_count": null,
      "id": "0c614dfd-3de9-4d6a-8874-387f989a9318",
      "metadata": {
        "id": "0c614dfd-3de9-4d6a-8874-387f989a9318",
        "outputId": "3599216c-3620-4646-9887-00a2f0161b55"
      },
      "outputs": [
        {
          "data": {
            "text/plain": [
              "month\n",
              "1     68472.70\n",
              "2     64067.40\n",
              "3     69198.00\n",
              "4     67286.20\n",
              "5     69939.35\n",
              "6     66796.30\n",
              "7     71027.45\n",
              "8     67068.80\n",
              "9     63018.00\n",
              "10    62566.50\n",
              "11    69054.00\n",
              "12    63450.00\n",
              "Name: price, dtype: float64"
            ]
          },
          "execution_count": 36,
          "metadata": {},
          "output_type": "execute_result"
        }
      ],
      "source": [
        "sales_in_each_month"
      ]
    },
    {
      "cell_type": "code",
      "execution_count": null,
      "id": "76c9d61e-1e9a-48f9-9edd-2c26f8d4baf0",
      "metadata": {
        "id": "76c9d61e-1e9a-48f9-9edd-2c26f8d4baf0",
        "outputId": "e3894819-97a2-45fa-cc39-98ddae20b570"
      },
      "outputs": [
        {
          "data": {
            "text/plain": [
              "<Axes: xlabel='month'>"
            ]
          },
          "execution_count": 38,
          "metadata": {},
          "output_type": "execute_result"
        },
        {
          "data": {
            "image/png": "[encoded data removed]",
            "text/plain": [
              "<Figure size 640x480 with 1 Axes>"
            ]
          },
          "metadata": {},
          "output_type": "display_data"
        }
      ],
      "source": [
        "sales_in_each_month.plot(kind = \"bar\")"
      ]
    },
    {
      "cell_type": "code",
      "execution_count": null,
      "id": "218d023c-e202-42d1-b07a-315bbbcc1d1d",
      "metadata": {
        "id": "218d023c-e202-42d1-b07a-315bbbcc1d1d"
      },
      "outputs": [],
      "source": [
        "plt.show()"
      ]
    },
    {
      "cell_type": "code",
      "execution_count": null,
      "id": "bfbeb1b7-2f53-4110-b840-9ea81ca8f0c1",
      "metadata": {
        "id": "bfbeb1b7-2f53-4110-b840-9ea81ca8f0c1"
      },
      "outputs": [],
      "source": [
        "bad_pizza = full_data.groupby(\"pizza_type_id\")[\"price\"].sum().sort_values(ascending=True).head(5)"
      ]
    },
    {
      "cell_type": "code",
      "execution_count": null,
      "id": "0420358f-ebc6-4972-9813-f14051925d6e",
      "metadata": {
        "id": "0420358f-ebc6-4972-9813-f14051925d6e",
        "outputId": "ec2b2ab7-5a44-4ca0-d55d-6029dfbc87c3"
      },
      "outputs": [
        {
          "data": {
            "text/plain": [
              "pizza_type_id\n",
              "brie_carre      11352.00\n",
              "green_garden    13819.50\n",
              "spinach_supr    15124.00\n",
              "mediterraneo    15163.00\n",
              "spin_pesto      15388.25\n",
              "Name: price, dtype: float64"
            ]
          },
          "execution_count": 41,
          "metadata": {},
          "output_type": "execute_result"
        }
      ],
      "source": [
        "bad_pizza"
      ]
    }
  ],
  "metadata": {
    "kernelspec": {
      "display_name": "Python 3 (ipykernel)",
      "language": "python",
      "name": "python3"
    },
    "language_info": {
      "codemirror_mode": {
        "name": "ipython",
        "version": 3
      },
      "file_extension": ".py",
      "mimetype": "text/x-python",
      "name": "python",
      "nbconvert_exporter": "python",
      "pygments_lexer": "ipython3",
      "version": "3.12.7"
    },
    "colab": {
      "provenance": []
    }
  },
  "nbformat": 4,
  "nbformat_minor": 5
}